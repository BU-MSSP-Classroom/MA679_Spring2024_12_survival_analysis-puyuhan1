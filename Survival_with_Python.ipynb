{
 "cells": [
  {
   "cell_type": "markdown",
   "id": "acd7074e",
   "metadata": {},
   "source": [
    "# Class Workbook"
   ]
  },
  {
   "cell_type": "markdown",
   "id": "42c08efd",
   "metadata": {},
   "source": [
    "## In class activity"
   ]
  },
  {
   "cell_type": "code",
   "execution_count": 1,
   "id": "fb7820be",
   "metadata": {
    "Rmd_chunk_options": "echo=FALSE",
    "jupyter": {
     "output_hidden": false,
     "source_hidden": true
    },
    "kernel": "Python3",
    "tags": [
     "report_output"
    ]
   },
   "outputs": [
    {
     "data": {
      "text/plain": [
       "<Figure size 72x72 with 0 Axes>"
      ]
     },
     "metadata": {},
     "output_type": "display_data"
    }
   ],
   "source": [
    "import numpy as np\n",
    "from scipy.special import expit\n",
    "\n",
    "import seaborn as sns\n",
    "import math\n",
    "from matplotlib.pyplot import subplots\n",
    "import matplotlib.pyplot as plt\n",
    "import pandas as pd\n",
    "#import statsmodels.api as sm\n",
    "from plotnine import *\n",
    "import plotly.express as px\n",
    "import plotly.graph_objects as go\n",
    "import statsmodels.formula.api as sm\n",
    "from sklearn.linear_model import LinearRegression\n",
    "from sklearn.linear_model import LogisticRegression\n",
    "from sklearn.model_selection import train_test_split\n",
    "from sklearn.metrics import accuracy_score, confusion_matrix, roc_auc_score, roc_curve\n",
    "import patchworklib as pw\n",
    "from mpl_toolkits.mplot3d import Axes3D\n",
    "\n",
    "#import ISLP as islp"
   ]
  },
  {
   "cell_type": "markdown",
   "id": "a5a551db",
   "metadata": {},
   "source": [
    "### Simulated example\n",
    "\n",
    "Let's simulate lightbulb life time in minutes using exponential distribution.\n",
    "Let's say we have A light bulb with rate 0.001 and B light bulb with rate 0.0015.\n",
    "We will generate 100 bulbs each."
   ]
  },
  {
   "cell_type": "code",
   "execution_count": null,
   "id": "f5ea1526",
   "metadata": {
    "Rmd_chunk_options": "echo=TRUE",
    "kernel": "Python3",
    "tags": [
     "report_cell"
    ]
   },
   "outputs": [],
   "source": [
    "np.random.seed(1234)\n",
    "\n",
    "def lightbulb(n=100, hrate=0.001):\n",
    "    return np.random.exponential(scale=1/hrate, size=n)\n",
    "\n",
    "# Generate data for columns A and B\n",
    "df = pd.DataFrame({\n",
    "    'A': lightbulb(100, 0.001),\n",
    "    'B': lightbulb(100, 0.0015)\n",
    "})\n",
    "df"
   ]
  },
  {
   "cell_type": "markdown",
   "id": "0584d472",
   "metadata": {},
   "source": [
    "There are many ways to look at this data."
   ]
  },
  {
   "cell_type": "markdown",
   "id": "f09076e4",
   "metadata": {},
   "source": [
    "### 50 hour survival\n",
    "\n",
    "For example, how many survived 50 hours?"
   ]
  },
  {
   "cell_type": "code",
   "execution_count": null,
   "id": "a7207a8a",
   "metadata": {
    "kernel": "Python3",
    "tags": [
     "report_cell"
    ]
   },
   "outputs": [],
   "source": [
    "df_melt=pd.melt(df<3000)\n",
    "(\n",
    " ggplot(df_melt)+geom_bar()+aes(x=\"variable\", fill=\"value\")+xlab(\"\")+coord_flip()\n",
    ")"
   ]
  },
  {
   "cell_type": "markdown",
   "id": "740b345e",
   "metadata": {},
   "source": [
    "### Rate by 10 hour window\n",
    "\n",
    "Or the counts of how many died in every 10 hour window."
   ]
  },
  {
   "cell_type": "code",
   "execution_count": null,
   "id": "28635c5f",
   "metadata": {
    "kernel": "Python3",
    "tags": [
     "report_cell"
    ]
   },
   "outputs": [],
   "source": [
    "bin_edges = np.arange(0, 10001, 600)\n",
    "bin_edges[-1] = 10000  # Ensure the last bin ends at 10000\n",
    "\n",
    "# Apply the cut function to each column of the DataFrame\n",
    "dfdisc = df.apply(lambda x: pd.cut(x, bins=bin_edges))\n",
    "\n",
    "# Melt the DataFrame\n",
    "mdfdisc = pd.melt(dfdisc)\n",
    "(\n",
    "  ggplot(mdfdisc)+geom_bar()+aes(x=\"value\" )+xlab(\"\")+facet_grid(\"variable~.\")\n",
    ")"
   ]
  },
  {
   "cell_type": "markdown",
   "id": "7206ad53",
   "metadata": {},
   "source": [
    "### Hours until the lightbulb burns out\n",
    "\n",
    "Or, we can look at the hours directly."
   ]
  },
  {
   "cell_type": "code",
   "execution_count": null,
   "id": "2bd36681",
   "metadata": {
    "kernel": "Python3",
    "tags": [
     "report_cell"
    ]
   },
   "outputs": [],
   "source": [
    "(\n",
    "  ggplot(pd.melt(df))+geom_histogram(bins=30)+\n",
    "  aes(x=\"value\" )+xlab(\"\")+facet_grid(\"variable~.\")\n",
    ")"
   ]
  },
  {
   "cell_type": "markdown",
   "id": "e19688f3",
   "metadata": {},
   "source": [
    "### What is the correct way to analyze?\n",
    "\n",
    "Depending on the research question the way to analyze the data will be different.\n",
    "\n",
    "- For the binary problem, you can use logistic regression.\n",
    "- For the counts you can use Poisson regression with offset.\n",
    "- For the hours, it depends on the shape of the distribution.\n",
    "\n",
    "First take away message: It is important is to understand that not all survival analysis requires a complex survival analysis model.  The question then is what requires survival analysis?"
   ]
  },
  {
   "cell_type": "markdown",
   "id": "1e0e292b",
   "metadata": {},
   "source": [
    "### The Veterans' Administration Lung Cancer Trial\n",
    "\n",
    "Survival in patients with advanced lung cancer from the North Central Cancer Treatment Group. Performance scores rate how well the patient can perform usual daily activities.\n",
    "\n",
    "- `inst`:\tInstitution code\n",
    "- `time`:\tSurvival time in days\n",
    "- `status`:\tcensoring status\n",
    "  - 1=censored,\n",
    "  - 2=dead\n",
    "- `age`:\tAge in years\n",
    "- `sex`:\n",
    "  - Male=1\n",
    "  - Female=2\n",
    "- `ph.ecog`:\tECOG performance score as rated by the physician.\n",
    "  - 0=asymptomatic,\n",
    "  - 1= symptomatic but completely ambulatory,\n",
    "  - 2= in bed <50% of the day,\n",
    "  - 3= in bed > 50% of the day but not bedbound,\n",
    "  - 4 = bedbound\n",
    "- `ph.karno`:\tKarnofsky performance score (bad=0-good=100) rated by physician\n",
    "- `pat.karno`:\tKarnofsky performance score as rated by patient\n",
    "- `meal.cal`:\tCalories consumed at meals\n",
    "- `wt.loss`:\tWeight loss in last six months (pounds)"
   ]
  },
  {
   "cell_type": "code",
   "execution_count": null,
   "id": "7e4cc73e",
   "metadata": {
    "kernel": "Python3",
    "tags": [
     "report_cell"
    ]
   },
   "outputs": [],
   "source": [
    "#pip install scikit-survival\n",
    "# if you get an error you might need to manually install osqp\n",
    "#https://osqp.org/docs/get_started/sources.html\n",
    "from lifelines.datasets import load_lung\n",
    "lung = load_lung()\n",
    "lung=lung.dropna()\n",
    "\n",
    "lung[\"status\"]=np.where(lung[\"status\"] == 1, True, False)\n",
    "data_y=lung.loc[:,[\"status\",\"time\"]]\n",
    "\n",
    "data_x=lung.loc[:,[\"inst\",\"age\",\"sex\", \"ph.ecog\",\"ph.karno\",  \"pat.karno\",  \"meal.cal\" , \"wt.loss\"]]\n",
    "\n",
    "lung_df=lung.loc[:,[\"status\",\"time\",\"sex\",\"age\"]]\n",
    "lung_df[\"sex\"]=lung_df[\"sex\"] -1\n",
    "lung_df.dtypes\n",
    "lung_df.isnull().sum()\n",
    "\n",
    "lung_df_m=lung_df[lung.sex==1]\n",
    "lung_df_f=lung_df[lung.sex==2]"
   ]
  },
  {
   "cell_type": "markdown",
   "id": "f51937b7",
   "metadata": {},
   "source": [
    "### K-M plot\n",
    "\n",
    "Kaplan-Meier curves shows the empirical survival probability.  This is the first thing people do when they start survival analysis.  There are few ways to plot the same thing.  One way is using `sksurv`."
   ]
  },
  {
   "cell_type": "code",
   "execution_count": null,
   "id": "abc195eb",
   "metadata": {
    "kernel": "Python3",
    "tags": [
     "report_cell"
    ]
   },
   "outputs": [],
   "source": [
    "from sksurv.nonparametric import kaplan_meier_estimator\n",
    "\n",
    "time, survival_prob, conf_int = kaplan_meier_estimator(\n",
    "    data_y[\"status\"], data_y[\"time\"], conf_type=\"log-log\"\n",
    ")\n",
    "\n",
    "plt.step(time, survival_prob, where=\"post\")\n",
    "plt.fill_between(time, conf_int[0], conf_int[1], alpha=0.25, step=\"post\")\n",
    "plt.ylim(0, 1)\n",
    "plt.ylabel(r\"est. probability of survival $\\hat{S}(t)$\")\n",
    "plt.xlabel(\"time $t$\")\n",
    "plt.show()"
   ]
  },
  {
   "cell_type": "markdown",
   "id": "040656a8",
   "metadata": {},
   "source": [
    "The alternative is to use `lifelines`."
   ]
  },
  {
   "cell_type": "code",
   "execution_count": null,
   "id": "85beaaa5",
   "metadata": {
    "kernel": "Python3",
    "tags": [
     "report_cell"
    ]
   },
   "outputs": [],
   "source": [
    "from lifelines import KaplanMeierFitter\n",
    "kmf=KaplanMeierFitter()\n",
    "kmf.fit(lung_df['time'], event_observed=lung_df['status'], label=\"kmf.plot_survival_function(show_censors=True, \\ncensor_styles={'ms': 6, 'marker': 's'})\")\n",
    "kmf.plot_survival_function(show_censors=True, censor_styles={'ms': 6, 'marker': 's'})"
   ]
  },
  {
   "cell_type": "markdown",
   "id": "c627ddd7",
   "metadata": {},
   "source": [
    "### Checking for proportional hazard assumption.\n",
    "\n",
    "We check the proportional hazard assumption by plotting log time vs cloglog survival.  If the proportional hazard assumption hold, then the lines should be parallel."
   ]
  },
  {
   "cell_type": "code",
   "execution_count": null,
   "id": "9f3fc936",
   "metadata": {
    "kernel": "Python3",
    "tags": [
     "report_cell"
    ]
   },
   "outputs": [],
   "source": [
    "from lifelines import KaplanMeierFitter\n",
    "\n",
    "def kmsubset(data):\n",
    "    kmf = KaplanMeierFitter()\n",
    "    kmf.fit(data['time'], event_observed=data['status'])\n",
    "    time_0 = kmf.timeline\n",
    "    surv_0 = kmf.survival_function_\n",
    "    cloglog_0 = -np.log(-np.log(surv_0))\n",
    "    logtime_0 = np.log(time_0)\n",
    "    aa = {'cloglog': cloglog_0, 'logtime': logtime_0}\n",
    "    return aa\n",
    "\n",
    "a=kmsubset(data=lung[lung.sex==1] )\n",
    "b=kmsubset(data=lung[lung.sex==2])\n",
    "\n",
    "plt.plot(a['logtime'], a['cloglog'], 'blue', linewidth=2, drawstyle='steps', label='Male')\n",
    "plt.plot(b['logtime'], b['cloglog'], 'red', linewidth=2, drawstyle='steps', label='Female')\n",
    "\n",
    "plt.xlabel('logtime')\n",
    "plt.ylabel('cloglog')\n",
    "plt.legend()\n",
    "plt.show()"
   ]
  },
  {
   "cell_type": "markdown",
   "id": "22b0e4d0",
   "metadata": {},
   "source": [
    "The line seems fairly parallel, which does not prove the proportional hazard assumption but there is no reason to believe otherwise.\n",
    "\n",
    "The popular model to fit is the Cox Proportional Hazard model"
   ]
  },
  {
   "cell_type": "code",
   "execution_count": null,
   "id": "d8576c81",
   "metadata": {
    "kernel": "Python3",
    "tags": [
     "report_cell"
    ]
   },
   "outputs": [],
   "source": [
    "from lifelines import CoxPHFitter\n",
    "cph = CoxPHFitter()\n",
    "cph.fit(lung_df,\"time\",\"status\", formula=\"sex+age\")\n",
    "cph.print_summary()"
   ]
  },
  {
   "cell_type": "markdown",
   "id": "f5493ec3",
   "metadata": {},
   "source": [
    "The fitted coefficient"
   ]
  },
  {
   "cell_type": "code",
   "execution_count": null,
   "id": "0046dc41",
   "metadata": {
    "kernel": "Python3",
    "tags": [
     "report_cell"
    ]
   },
   "outputs": [],
   "source": [
    "cph.plot()\n",
    "plt.show()"
   ]
  },
  {
   "cell_type": "markdown",
   "id": "7cf4262d",
   "metadata": {},
   "source": [
    "The estimated survival functions align well with the empirical survival function."
   ]
  },
  {
   "cell_type": "code",
   "execution_count": null,
   "id": "264ae354",
   "metadata": {
    "kernel": "Python3",
    "tags": [
     "report_cell"
    ]
   },
   "outputs": [],
   "source": [
    "from matplotlib import pyplot as plt\n",
    "ax = plt.subplot(111)\n",
    "kmfm = KaplanMeierFitter()\n",
    "kmfm.fit(lung_df_m['time'], event_observed=lung_df_m['status'], label='male')\n",
    "kmfm.plot_survival_function(ax=ax)\n",
    "kmff = KaplanMeierFitter()\n",
    "kmff.fit(lung_df_f['time'], event_observed=lung_df_f['status'], label='female')\n",
    "kmff.plot_survival_function(ax=ax)\n",
    "cph.plot_partial_effects_on_outcome(covariates=[\"sex\"],\n",
    "                         values=[0,1],ax=ax)\n",
    "plt.show()"
   ]
  },
  {
   "cell_type": "markdown",
   "id": "791c3730",
   "metadata": {},
   "source": [
    "You can plot the estimated curves for different set of predictor values."
   ]
  },
  {
   "cell_type": "code",
   "execution_count": null,
   "id": "380bb2d0",
   "metadata": {
    "kernel": "Python3",
    "tags": [
     "report_cell"
    ]
   },
   "outputs": [],
   "source": [
    "cph.plot_partial_effects_on_outcome(covariates=[\"sex\",\"age\"],\n",
    "                         values=[[0,40],[0,50],[0,60],\n",
    "                                  [1,40],[1,50],[1,60]])\n",
    "plt.show()"
   ]
  },
  {
   "cell_type": "markdown",
   "id": "a0e0aace",
   "metadata": {},
   "source": [
    "### Weibull regression\n",
    "\n",
    "Following example from Zhang (2016) (https://www.ncbi.nlm.nih.gov/pmc/articles/PMC5233524/pdf/atm-04-24-484.pdf  ) we will fit a Weibull regression."
   ]
  },
  {
   "cell_type": "code",
   "execution_count": null,
   "id": "9db18555",
   "metadata": {
    "Rmd_chunk_options": "eval=TRUE",
    "kernel": "Python3",
    "tags": [
     "report_cell"
    ]
   },
   "outputs": [],
   "source": [
    "from lifelines import WeibullAFTFitter\n",
    "weibull_aft = WeibullAFTFitter()\n",
    "weibull_aft.fit(lung_df, duration_col='time', event_col='status', formula=\"sex+age\")\n",
    "weibull_aft.print_summary()"
   ]
  },
  {
   "cell_type": "markdown",
   "id": "f0ff66af",
   "metadata": {},
   "source": [
    "Weibull model seem to fit well."
   ]
  },
  {
   "cell_type": "code",
   "execution_count": null,
   "id": "c77757d5",
   "metadata": {
    "kernel": "Python3",
    "tags": [
     "report_cell"
    ]
   },
   "outputs": [],
   "source": [
    "ax = plt.subplot(111)\n",
    "kmfm.plot_survival_function(ax=ax)\n",
    "kmff.plot_survival_function(ax=ax)\n",
    "weibull_aft.plot_partial_effects_on_outcome(covariates=[\"sex\"],\n",
    "                         values=[0,1],ax=ax)\n",
    "plt.show()"
   ]
  },
  {
   "cell_type": "code",
   "execution_count": null,
   "id": "7fca8a8b",
   "metadata": {
    "kernel": "Python3",
    "tags": [
     "report_cell"
    ]
   },
   "outputs": [],
   "source": [
    "weibull_aft.plot_partial_effects_on_outcome(covariates=[\"sex\",\"age\"],\n",
    "                         values=[[0,40],[0,50],[0,60],\n",
    "                                  [1,40],[1,50],[1,60]])\n",
    "\n",
    "\n",
    "plt.show()"
   ]
  },
  {
   "cell_type": "markdown",
   "id": "ffb85a19",
   "metadata": {},
   "source": [
    "### Concordance index\n",
    "\n",
    "The concordance index is a value between 0 and 1 where:\n",
    "\n",
    "- 0.5 is the expected result from random predictions,\n",
    "- 1.0 is perfect concordance and,\n",
    "- 0.0 is perfect anti-concordance (multiply predictions with -1 to get 1.0)"
   ]
  },
  {
   "cell_type": "code",
   "execution_count": null,
   "id": "39e56248",
   "metadata": {
    "kernel": "Python3",
    "tags": [
     "report_cell"
    ]
   },
   "outputs": [],
   "source": [
    "from lifelines.utils import concordance_index\n",
    "concordance_index(lung_df['time'], -cph.predict_partial_hazard(lung_df), lung_df['status'])\n",
    "concordance_index(lung_df['time'], -weibull_aft.predict_expectation(lung_df), lung_df['status'])"
   ]
  },
  {
   "cell_type": "markdown",
   "id": "b92bf783",
   "metadata": {},
   "source": [
    "### AIC model search"
   ]
  },
  {
   "cell_type": "code",
   "execution_count": null,
   "id": "56571b6b",
   "metadata": {
    "kernel": "Python3",
    "tags": [
     "report_cell"
    ]
   },
   "outputs": [],
   "source": [
    "print(weibull_aft.AIC_, cph.AIC_partial_)\n",
    "from lifelines.utils import find_best_parametric_model\n",
    "best_model, best_aic_ = find_best_parametric_model(event_times=lung_df['time'],\n",
    "                                                      event_observed=lung_df['status'],\n",
    "                                                 scoring_method=\"AIC\")\n",
    "\n",
    "from lifelines.plotting import qq_plot\n",
    "qq_plot(best_model)\n",
    "plt.show()"
   ]
  },
  {
   "cell_type": "markdown",
   "id": "ca7f849d",
   "metadata": {},
   "source": [
    "### Log-rank test"
   ]
  },
  {
   "cell_type": "code",
   "execution_count": null,
   "id": "605170a9",
   "metadata": {
    "kernel": "Python3",
    "tags": [
     "report_cell"
    ]
   },
   "outputs": [],
   "source": [
    "from lifelines.statistics import logrank_test\n",
    "results = logrank_test(lung_df_m['time'], lung_df_f['time'], event_observed_A=lung_df_m['status'], event_observed_B=lung_df_f['status'])\n",
    "results.print_summary()"
   ]
  },
  {
   "cell_type": "markdown",
   "id": "174a8b1f",
   "metadata": {},
   "source": [
    "## Problem Set"
   ]
  },
  {
   "cell_type": "markdown",
   "id": "11e26e0c",
   "metadata": {},
   "source": [
    "### Brain Tumor\n",
    "\n",
    "This exercise focuses on the brain tumor data, which is included in the ISLR2 R library."
   ]
  },
  {
   "cell_type": "code",
   "execution_count": 2,
   "id": "6cb1a3e0",
   "metadata": {
    "Rmd_chunk_options": "eval=TRUE",
    "kernel": "Python3",
    "tags": [
     "report_cell"
    ]
   },
   "outputs": [],
   "source": [
    "BrainCancer=pd.read_csv(\"https://raw.githubusercontent.com/intro-stat-learning/ISLP/main/ISLP/data/BrainCancer.csv\")"
   ]
  },
  {
   "cell_type": "markdown",
   "id": "f0b5f138",
   "metadata": {},
   "source": [
    "(a) Plot the Kaplan-Meier survival curve with ±1 standard error\n",
    "bands, using the `KaplanMeierFitter()` estimator in the lifelines\n",
    "package."
   ]
  },
  {
   "cell_type": "code",
   "execution_count": 4,
   "id": "78c570ea",
   "metadata": {
    "Rmd_chunk_options": "echo=TRUE",
    "kernel": "Python3",
    "tags": [
     "report_cell"
    ]
   },
   "outputs": [
    {
     "data": {
      "image/png": "[encoded data removed]",
      "text/plain": [
       "<Figure size 720x432 with 1 Axes>"
      ]
     },
     "metadata": {
      "needs_background": "light"
     },
     "output_type": "display_data"
    }
   ],
   "source": [
    "from lifelines import KaplanMeierFitter\n",
    "import matplotlib.pyplot as plt\n",
    "kmf = KaplanMeierFitter()\n",
    "\n",
    "kmf.fit(durations=BrainCancer[\"time\"], event_observed=BrainCancer[\"status\"])\n",
    "\n",
    "plt.figure(figsize=(10, 6))\n",
    "kmf.plot_survival_function(ci_show=True)\n",
    "plt.title('Kaplan-Meier Survival Curve with ±1 Standard Error Bands')\n",
    "plt.xlabel('Time (days)')\n",
    "plt.ylabel('Survival Probability')\n",
    "plt.grid(True)\n",
    "plt.show()"
   ]
  },
  {
   "cell_type": "markdown",
   "id": "0c27724e",
   "metadata": {},
   "source": [
    "(b) Draw a bootstrap sample of size $n = 88$ from the pairs ($y_i$, $\\delta_i$), and compute the resulting Kaplan-Meier survival curve. Repeat this process B = 200 times. Use the results to obtain an estimate of the standard error of the Kaplan-Meier survival curve at each timepoint. Compare this to the standard errors obtained in (a)."
   ]
  },
  {
   "cell_type": "code",
   "execution_count": 10,
   "id": "f086fb0a",
   "metadata": {
    "Rmd_chunk_options": "echo=TRUE",
    "kernel": "Python3",
    "tags": [
     "report_cell"
    ]
   },
   "outputs": [
    {
     "data": {
      "text/plain": [
       "array([0.01071983, 0.01071983, 0.0145343 , 0.0145343 , 0.0145343 ])"
      ]
     },
     "execution_count": 10,
     "metadata": {},
     "output_type": "execute_result"
    }
   ],
   "source": [
    "from sklearn.utils import resample\n",
    "\n",
    "import numpy as np\n",
    "import matplotlib.pyplot as plt\n",
    "\n",
    "def kaplan_meier_estimator(event_times, censored, timeline=None):\n",
    "    if timeline is None:\n",
    "        timeline = np.unique(event_times)\n",
    "    \n",
    "    times_and_events = sorted(zip(event_times, censored), key=lambda x: x[0])\n",
    "    survival_prob = [1]\n",
    "    standard_errors = [0]\n",
    "    \n",
    "    for i, time in enumerate(timeline, start=1):\n",
    "        at_risk = len([e for e, c in times_and_events if e >= time])\n",
    "        events = len([e for e, c in times_and_events if e == time and c == 1])\n",
    "        if at_risk > 0:\n",
    "            survival_prob.append(survival_prob[-1] * (1 - events / at_risk))\n",
    "            variance = survival_prob[-1]**2 * events / (at_risk * (at_risk - events)) if at_risk > events else 0\n",
    "            standard_errors.append(np.sqrt(variance + standard_errors[-1]**2))\n",
    "        else:\n",
    "            survival_prob.append(survival_prob[-1])\n",
    "            standard_errors.append(standard_errors[-1])\n",
    "    \n",
    "    return np.array(timeline), np.array(survival_prob[1:]), np.array(standard_errors[1:])\n",
    "\n",
    "timeline, survival_prob, standard_errors = kaplan_meier_estimator(\n",
    "    BrainCancer['time'],\n",
    "    BrainCancer['status']\n",
    ")\n",
    "\n",
    "def bootstrap_km(data, n_bootstrap=200):\n",
    "    bootstrap_survival_functions = []\n",
    "    \n",
    "    for _ in range(n_bootstrap):\n",
    "        bootstrap_sample = resample(data, replace=True, n_samples=len(data))\n",
    "        \n",
    "        _, survival_prob_bootstrap, _ = kaplan_meier_estimator(\n",
    "            bootstrap_sample['time'],\n",
    "            bootstrap_sample['status'],\n",
    "            timeline=timeline\n",
    "        )\n",
    "        bootstrap_survival_functions.append(survival_prob_bootstrap)\n",
    "    \n",
    "    bootstrap_survival_functions = np.array(bootstrap_survival_functions)\n",
    "    bootstrap_standard_errors = bootstrap_survival_functions.std(axis=0)\n",
    "    \n",
    "    return bootstrap_standard_errors\n",
    "\n",
    "bootstrap_std_errors = bootstrap_km(BrainCancer)\n",
    "bootstrap_std_errors[:5]\n"
   ]
  },
  {
   "cell_type": "markdown",
   "id": "e435146f",
   "metadata": {},
   "source": [
    "(c) Fit a Cox proportional hazards model that uses all of the predictors\n",
    "to predict survival. Summarize the main findings."
   ]
  },
  {
   "cell_type": "code",
   "execution_count": 17,
   "id": "a80ff3ef",
   "metadata": {
    "Rmd_chunk_options": "echo=TRUE",
    "kernel": "Python3",
    "tags": [
     "report_cell"
    ]
   },
   "outputs": [
    {
     "ename": "ImportError",
     "evalue": "Pandas requires version '3.0.0' or newer of 'jinja2' (version '2.11.3' currently installed).",
     "output_type": "error",
     "traceback": [
      "\u001b[0;31m---------------------------------------------------------------------------\u001b[0m",
      "\u001b[0;31mImportError\u001b[0m                               Traceback (most recent call last)",
      "\u001b[0;32m~/opt/anaconda3/lib/python3.9/site-packages/IPython/core/formatters.py\u001b[0m in \u001b[0;36m__call__\u001b[0;34m(self, obj)\u001b[0m\n\u001b[1;32m    343\u001b[0m             \u001b[0mmethod\u001b[0m \u001b[0;34m=\u001b[0m \u001b[0mget_real_method\u001b[0m\u001b[0;34m(\u001b[0m\u001b[0mobj\u001b[0m\u001b[0;34m,\u001b[0m \u001b[0mself\u001b[0m\u001b[0;34m.\u001b[0m\u001b[0mprint_method\u001b[0m\u001b[0;34m)\u001b[0m\u001b[0;34m\u001b[0m\u001b[0;34m\u001b[0m\u001b[0m\n\u001b[1;32m    344\u001b[0m             \u001b[0;32mif\u001b[0m \u001b[0mmethod\u001b[0m \u001b[0;32mis\u001b[0m \u001b[0;32mnot\u001b[0m \u001b[0;32mNone\u001b[0m\u001b[0;34m:\u001b[0m\u001b[0;34m\u001b[0m\u001b[0;34m\u001b[0m\u001b[0m\n\u001b[0;32m--> 345\u001b[0;31m                 \u001b[0;32mreturn\u001b[0m \u001b[0mmethod\u001b[0m\u001b[0;34m(\u001b[0m\u001b[0;34m)\u001b[0m\u001b[0;34m\u001b[0m\u001b[0;34m\u001b[0m\u001b[0m\n\u001b[0m\u001b[1;32m    346\u001b[0m             \u001b[0;32mreturn\u001b[0m \u001b[0;32mNone\u001b[0m\u001b[0;34m\u001b[0m\u001b[0;34m\u001b[0m\u001b[0m\n\u001b[1;32m    347\u001b[0m         \u001b[0;32melse\u001b[0m\u001b[0;34m:\u001b[0m\u001b[0;34m\u001b[0m\u001b[0;34m\u001b[0m\u001b[0m\n",
      "\u001b[0;32m~/opt/anaconda3/lib/python3.9/site-packages/lifelines/utils/printer.py\u001b[0m in \u001b[0;36m_repr_latex_\u001b[0;34m(self)\u001b[0m\n\u001b[1;32m    183\u001b[0m         \u001b[0mself\u001b[0m\u001b[0;34m,\u001b[0m\u001b[0;34m\u001b[0m\u001b[0;34m\u001b[0m\u001b[0m\n\u001b[1;32m    184\u001b[0m     ):\n\u001b[0;32m--> 185\u001b[0;31m         \u001b[0;32mreturn\u001b[0m \u001b[0mself\u001b[0m\u001b[0;34m.\u001b[0m\u001b[0mto_latex\u001b[0m\u001b[0;34m(\u001b[0m\u001b[0;34m)\u001b[0m\u001b[0;34m\u001b[0m\u001b[0;34m\u001b[0m\u001b[0m\n\u001b[0m\u001b[1;32m    186\u001b[0m \u001b[0;34m\u001b[0m\u001b[0m\n\u001b[1;32m    187\u001b[0m     \u001b[0;32mdef\u001b[0m \u001b[0m_repr_html_\u001b[0m\u001b[0;34m(\u001b[0m\u001b[0mself\u001b[0m\u001b[0;34m)\u001b[0m\u001b[0;34m:\u001b[0m\u001b[0;34m\u001b[0m\u001b[0;34m\u001b[0m\u001b[0m\n",
      "\u001b[0;32m~/opt/anaconda3/lib/python3.9/site-packages/lifelines/utils/printer.py\u001b[0m in \u001b[0;36mto_latex\u001b[0;34m(self)\u001b[0m\n\u001b[1;32m     60\u001b[0m         \u001b[0;32melse\u001b[0m\u001b[0;34m:\u001b[0m\u001b[0;34m\u001b[0m\u001b[0;34m\u001b[0m\u001b[0m\n\u001b[1;32m     61\u001b[0m             \u001b[0mcolumns\u001b[0m \u001b[0;34m=\u001b[0m \u001b[0msummary_df\u001b[0m\u001b[0;34m.\u001b[0m\u001b[0mcolumns\u001b[0m\u001b[0;34m.\u001b[0m\u001b[0mintersection\u001b[0m\u001b[0;34m(\u001b[0m\u001b[0mself\u001b[0m\u001b[0;34m.\u001b[0m\u001b[0mcolumns\u001b[0m\u001b[0;34m)\u001b[0m\u001b[0;34m\u001b[0m\u001b[0;34m\u001b[0m\u001b[0m\n\u001b[0;32m---> 62\u001b[0;31m         \u001b[0ms\u001b[0m \u001b[0;34m=\u001b[0m \u001b[0msummary_df\u001b[0m\u001b[0;34m[\u001b[0m\u001b[0mcolumns\u001b[0m\u001b[0;34m]\u001b[0m\u001b[0;34m.\u001b[0m\u001b[0mstyle\u001b[0m\u001b[0;34m\u001b[0m\u001b[0;34m\u001b[0m\u001b[0m\n\u001b[0m\u001b[1;32m     63\u001b[0m         \u001b[0ms\u001b[0m \u001b[0;34m=\u001b[0m \u001b[0ms\u001b[0m\u001b[0;34m.\u001b[0m\u001b[0mformat\u001b[0m\u001b[0;34m(\u001b[0m\u001b[0mprecision\u001b[0m\u001b[0;34m=\u001b[0m\u001b[0mself\u001b[0m\u001b[0;34m.\u001b[0m\u001b[0mdecimals\u001b[0m\u001b[0;34m)\u001b[0m\u001b[0;34m\u001b[0m\u001b[0;34m\u001b[0m\u001b[0m\n\u001b[1;32m     64\u001b[0m         \u001b[0;32mreturn\u001b[0m \u001b[0ms\u001b[0m\u001b[0;34m.\u001b[0m\u001b[0mto_latex\u001b[0m\u001b[0;34m(\u001b[0m\u001b[0;34m)\u001b[0m\u001b[0;34m\u001b[0m\u001b[0;34m\u001b[0m\u001b[0m\n",
      "\u001b[0;32m~/opt/anaconda3/lib/python3.9/site-packages/pandas/core/frame.py\u001b[0m in \u001b[0;36mstyle\u001b[0;34m(self)\u001b[0m\n\u001b[1;32m   1263\u001b[0m             \u001b[0mdata\u001b[0m \u001b[0;32mwith\u001b[0m \u001b[0mHTML\u001b[0m \u001b[0;32mand\u001b[0m \u001b[0mCSS\u001b[0m\u001b[0;34m.\u001b[0m\u001b[0;34m\u001b[0m\u001b[0;34m\u001b[0m\u001b[0m\n\u001b[1;32m   1264\u001b[0m         \"\"\"\n\u001b[0;32m-> 1265\u001b[0;31m         \u001b[0;32mfrom\u001b[0m \u001b[0mpandas\u001b[0m\u001b[0;34m.\u001b[0m\u001b[0mio\u001b[0m\u001b[0;34m.\u001b[0m\u001b[0mformats\u001b[0m\u001b[0;34m.\u001b[0m\u001b[0mstyle\u001b[0m \u001b[0;32mimport\u001b[0m \u001b[0mStyler\u001b[0m\u001b[0;34m\u001b[0m\u001b[0;34m\u001b[0m\u001b[0m\n\u001b[0m\u001b[1;32m   1266\u001b[0m \u001b[0;34m\u001b[0m\u001b[0m\n\u001b[1;32m   1267\u001b[0m         \u001b[0;32mreturn\u001b[0m \u001b[0mStyler\u001b[0m\u001b[0;34m(\u001b[0m\u001b[0mself\u001b[0m\u001b[0;34m)\u001b[0m\u001b[0;34m\u001b[0m\u001b[0;34m\u001b[0m\u001b[0m\n",
      "\u001b[0;32m~/opt/anaconda3/lib/python3.9/site-packages/pandas/io/formats/style.py\u001b[0m in \u001b[0;36m<module>\u001b[0;34m\u001b[0m\n\u001b[1;32m     54\u001b[0m \u001b[0;32mfrom\u001b[0m \u001b[0mpandas\u001b[0m\u001b[0;34m.\u001b[0m\u001b[0mio\u001b[0m\u001b[0;34m.\u001b[0m\u001b[0mformats\u001b[0m\u001b[0;34m.\u001b[0m\u001b[0mformat\u001b[0m \u001b[0;32mimport\u001b[0m \u001b[0msave_to_buffer\u001b[0m\u001b[0;34m\u001b[0m\u001b[0;34m\u001b[0m\u001b[0m\n\u001b[1;32m     55\u001b[0m \u001b[0;34m\u001b[0m\u001b[0m\n\u001b[0;32m---> 56\u001b[0;31m \u001b[0mjinja2\u001b[0m \u001b[0;34m=\u001b[0m \u001b[0mimport_optional_dependency\u001b[0m\u001b[0;34m(\u001b[0m\u001b[0;34m\"jinja2\"\u001b[0m\u001b[0;34m,\u001b[0m \u001b[0mextra\u001b[0m\u001b[0;34m=\u001b[0m\u001b[0;34m\"DataFrame.style requires jinja2.\"\u001b[0m\u001b[0;34m)\u001b[0m\u001b[0;34m\u001b[0m\u001b[0;34m\u001b[0m\u001b[0m\n\u001b[0m\u001b[1;32m     57\u001b[0m \u001b[0;34m\u001b[0m\u001b[0m\n\u001b[1;32m     58\u001b[0m from pandas.io.formats.style_render import (\n",
      "\u001b[0;32m~/opt/anaconda3/lib/python3.9/site-packages/pandas/compat/_optional.py\u001b[0m in \u001b[0;36mimport_optional_dependency\u001b[0;34m(name, extra, errors, min_version)\u001b[0m\n\u001b[1;32m    169\u001b[0m                 \u001b[0;32mreturn\u001b[0m \u001b[0;32mNone\u001b[0m\u001b[0;34m\u001b[0m\u001b[0;34m\u001b[0m\u001b[0m\n\u001b[1;32m    170\u001b[0m             \u001b[0;32melif\u001b[0m \u001b[0merrors\u001b[0m \u001b[0;34m==\u001b[0m \u001b[0;34m\"raise\"\u001b[0m\u001b[0;34m:\u001b[0m\u001b[0;34m\u001b[0m\u001b[0;34m\u001b[0m\u001b[0m\n\u001b[0;32m--> 171\u001b[0;31m                 \u001b[0;32mraise\u001b[0m \u001b[0mImportError\u001b[0m\u001b[0;34m(\u001b[0m\u001b[0mmsg\u001b[0m\u001b[0;34m)\u001b[0m\u001b[0;34m\u001b[0m\u001b[0;34m\u001b[0m\u001b[0m\n\u001b[0m\u001b[1;32m    172\u001b[0m \u001b[0;34m\u001b[0m\u001b[0m\n\u001b[1;32m    173\u001b[0m     \u001b[0;32mreturn\u001b[0m \u001b[0mmodule\u001b[0m\u001b[0;34m\u001b[0m\u001b[0;34m\u001b[0m\u001b[0m\n",
      "\u001b[0;31mImportError\u001b[0m: Pandas requires version '3.0.0' or newer of 'jinja2' (version '2.11.3' currently installed)."
     ]
    },
    {
     "data": {
      "text/html": [
       "<div>\n",
       "<style scoped>\n",
       "    .dataframe tbody tr th:only-of-type {\n",
       "        vertical-align: middle;\n",
       "    }\n",
       "\n",
       "    .dataframe tbody tr th {\n",
       "        vertical-align: top;\n",
       "    }\n",
       "\n",
       "    .dataframe thead th {\n",
       "        text-align: right;\n",
       "    }\n",
       "</style>\n",
       "<table border=\"1\" class=\"dataframe\">\n",
       "  <tbody>\n",
       "    <tr>\n",
       "      <th>model</th>\n",
       "      <td>lifelines.CoxPHFitter</td>\n",
       "    </tr>\n",
       "    <tr>\n",
       "      <th>duration col</th>\n",
       "      <td>'time'</td>\n",
       "    </tr>\n",
       "    <tr>\n",
       "      <th>event col</th>\n",
       "      <td>'status'</td>\n",
       "    </tr>\n",
       "    <tr>\n",
       "      <th>baseline estimation</th>\n",
       "      <td>breslow</td>\n",
       "    </tr>\n",
       "    <tr>\n",
       "      <th>number of observations</th>\n",
       "      <td>88</td>\n",
       "    </tr>\n",
       "    <tr>\n",
       "      <th>number of events observed</th>\n",
       "      <td>35</td>\n",
       "    </tr>\n",
       "    <tr>\n",
       "      <th>partial log-likelihood</th>\n",
       "      <td>-118.41</td>\n",
       "    </tr>\n",
       "    <tr>\n",
       "      <th>time fit was run</th>\n",
       "      <td>2024-04-20 21:27:53 UTC</td>\n",
       "    </tr>\n",
       "  </tbody>\n",
       "</table>\n",
       "</div><table border=\"1\" class=\"dataframe\">\n",
       "  <thead>\n",
       "    <tr style=\"text-align: right;\">\n",
       "      <th style=\"min-width: 12px;\"></th>\n",
       "      <th style=\"min-width: 12px;\">coef</th>\n",
       "      <th style=\"min-width: 12px;\">exp(coef)</th>\n",
       "      <th style=\"min-width: 12px;\">se(coef)</th>\n",
       "      <th style=\"min-width: 12px;\">coef lower 95%</th>\n",
       "      <th style=\"min-width: 12px;\">coef upper 95%</th>\n",
       "      <th style=\"min-width: 12px;\">exp(coef) lower 95%</th>\n",
       "      <th style=\"min-width: 12px;\">exp(coef) upper 95%</th>\n",
       "      <th style=\"min-width: 12px;\">cmp to</th>\n",
       "      <th style=\"min-width: 12px;\">z</th>\n",
       "      <th style=\"min-width: 12px;\">p</th>\n",
       "      <th style=\"min-width: 12px;\">-log2(p)</th>\n",
       "    </tr>\n",
       "  </thead>\n",
       "  <tbody>\n",
       "    <tr>\n",
       "      <th>ki</th>\n",
       "      <td>-0.06</td>\n",
       "      <td>0.94</td>\n",
       "      <td>0.07</td>\n",
       "      <td>-0.19</td>\n",
       "      <td>0.07</td>\n",
       "      <td>0.83</td>\n",
       "      <td>1.07</td>\n",
       "      <td>0.00</td>\n",
       "      <td>-0.93</td>\n",
       "      <td>0.35</td>\n",
       "      <td>1.51</td>\n",
       "    </tr>\n",
       "    <tr>\n",
       "      <th>gtv</th>\n",
       "      <td>0.04</td>\n",
       "      <td>1.04</td>\n",
       "      <td>0.02</td>\n",
       "      <td>-0.01</td>\n",
       "      <td>0.08</td>\n",
       "      <td>0.99</td>\n",
       "      <td>1.08</td>\n",
       "      <td>0.00</td>\n",
       "      <td>1.59</td>\n",
       "      <td>0.11</td>\n",
       "      <td>3.17</td>\n",
       "    </tr>\n",
       "    <tr>\n",
       "      <th>ki_adj</th>\n",
       "      <td>0.00</td>\n",
       "      <td>1.00</td>\n",
       "      <td>0.08</td>\n",
       "      <td>-0.14</td>\n",
       "      <td>0.15</td>\n",
       "      <td>0.87</td>\n",
       "      <td>1.16</td>\n",
       "      <td>0.00</td>\n",
       "      <td>0.06</td>\n",
       "      <td>0.95</td>\n",
       "      <td>0.07</td>\n",
       "    </tr>\n",
       "    <tr>\n",
       "      <th>sex_Male</th>\n",
       "      <td>0.10</td>\n",
       "      <td>1.11</td>\n",
       "      <td>0.37</td>\n",
       "      <td>-0.62</td>\n",
       "      <td>0.82</td>\n",
       "      <td>0.54</td>\n",
       "      <td>2.27</td>\n",
       "      <td>0.00</td>\n",
       "      <td>0.28</td>\n",
       "      <td>0.78</td>\n",
       "      <td>0.36</td>\n",
       "    </tr>\n",
       "    <tr>\n",
       "      <th>diagnosis_LG glioma</th>\n",
       "      <td>-1.09</td>\n",
       "      <td>0.34</td>\n",
       "      <td>0.58</td>\n",
       "      <td>-2.22</td>\n",
       "      <td>0.04</td>\n",
       "      <td>0.11</td>\n",
       "      <td>1.04</td>\n",
       "      <td>0.00</td>\n",
       "      <td>-1.89</td>\n",
       "      <td>0.06</td>\n",
       "      <td>4.09</td>\n",
       "    </tr>\n",
       "    <tr>\n",
       "      <th>diagnosis_Meningioma</th>\n",
       "      <td>-2.07</td>\n",
       "      <td>0.13</td>\n",
       "      <td>0.47</td>\n",
       "      <td>-3.00</td>\n",
       "      <td>-1.15</td>\n",
       "      <td>0.05</td>\n",
       "      <td>0.32</td>\n",
       "      <td>0.00</td>\n",
       "      <td>-4.40</td>\n",
       "      <td>&lt;0.005</td>\n",
       "      <td>16.51</td>\n",
       "    </tr>\n",
       "    <tr>\n",
       "      <th>diagnosis_Other</th>\n",
       "      <td>-1.23</td>\n",
       "      <td>0.29</td>\n",
       "      <td>0.65</td>\n",
       "      <td>-2.49</td>\n",
       "      <td>0.04</td>\n",
       "      <td>0.08</td>\n",
       "      <td>1.04</td>\n",
       "      <td>0.00</td>\n",
       "      <td>-1.90</td>\n",
       "      <td>0.06</td>\n",
       "      <td>4.12</td>\n",
       "    </tr>\n",
       "    <tr>\n",
       "      <th>loc_Supratentorial</th>\n",
       "      <td>0.38</td>\n",
       "      <td>1.46</td>\n",
       "      <td>0.70</td>\n",
       "      <td>-0.99</td>\n",
       "      <td>1.75</td>\n",
       "      <td>0.37</td>\n",
       "      <td>5.78</td>\n",
       "      <td>0.00</td>\n",
       "      <td>0.54</td>\n",
       "      <td>0.59</td>\n",
       "      <td>0.77</td>\n",
       "    </tr>\n",
       "    <tr>\n",
       "      <th>stereo_SRT</th>\n",
       "      <td>0.14</td>\n",
       "      <td>1.15</td>\n",
       "      <td>0.60</td>\n",
       "      <td>-1.04</td>\n",
       "      <td>1.31</td>\n",
       "      <td>0.35</td>\n",
       "      <td>3.72</td>\n",
       "      <td>0.00</td>\n",
       "      <td>0.23</td>\n",
       "      <td>0.82</td>\n",
       "      <td>0.29</td>\n",
       "    </tr>\n",
       "  </tbody>\n",
       "</table><br><div>\n",
       "<style scoped>\n",
       "    .dataframe tbody tr th:only-of-type {\n",
       "        vertical-align: middle;\n",
       "    }\n",
       "\n",
       "    .dataframe tbody tr th {\n",
       "        vertical-align: top;\n",
       "    }\n",
       "\n",
       "    .dataframe thead th {\n",
       "        text-align: right;\n",
       "    }\n",
       "</style>\n",
       "<table border=\"1\" class=\"dataframe\">\n",
       "  <tbody>\n",
       "    <tr>\n",
       "      <th>Concordance</th>\n",
       "      <td>0.79</td>\n",
       "    </tr>\n",
       "    <tr>\n",
       "      <th>Partial AIC</th>\n",
       "      <td>254.82</td>\n",
       "    </tr>\n",
       "    <tr>\n",
       "      <th>log-likelihood ratio test</th>\n",
       "      <td>39.48 on 9 df</td>\n",
       "    </tr>\n",
       "    <tr>\n",
       "      <th>-log2(p) of ll-ratio test</th>\n",
       "      <td>16.69</td>\n",
       "    </tr>\n",
       "  </tbody>\n",
       "</table>\n",
       "</div>"
      ],
      "text/plain": [
       "<lifelines.CoxPHFitter: fitted with 88 total observations, 53 right-censored observations>\n",
       "             duration col = 'time'\n",
       "                event col = 'status'\n",
       "      baseline estimation = breslow\n",
       "   number of observations = 88\n",
       "number of events observed = 35\n",
       "   partial log-likelihood = -118.41\n",
       "         time fit was run = 2024-04-20 21:27:53 UTC\n",
       "\n",
       "---\n",
       "                       coef  exp(coef)   se(coef)   coef lower 95%   coef upper 95%  exp(coef) lower 95%  exp(coef) upper 95%\n",
       "covariate                                                                                                                    \n",
       "ki                    -0.06       0.94       0.07            -0.19             0.07                 0.83                 1.07\n",
       "gtv                    0.04       1.04       0.02            -0.01             0.08                 0.99                 1.08\n",
       "ki_adj                 0.00       1.00       0.08            -0.14             0.15                 0.87                 1.16\n",
       "sex_Male               0.10       1.11       0.37            -0.62             0.82                 0.54                 2.27\n",
       "diagnosis_LG glioma   -1.09       0.34       0.58            -2.22             0.04                 0.11                 1.04\n",
       "diagnosis_Meningioma  -2.07       0.13       0.47            -3.00            -1.15                 0.05                 0.32\n",
       "diagnosis_Other       -1.23       0.29       0.65            -2.49             0.04                 0.08                 1.04\n",
       "loc_Supratentorial     0.38       1.46       0.70            -0.99             1.75                 0.37                 5.78\n",
       "stereo_SRT             0.14       1.15       0.60            -1.04             1.31                 0.35                 3.72\n",
       "\n",
       "                       cmp to     z      p   -log2(p)\n",
       "covariate                                            \n",
       "ki                       0.00 -0.93   0.35       1.51\n",
       "gtv                      0.00  1.59   0.11       3.17\n",
       "ki_adj                   0.00  0.06   0.95       0.07\n",
       "sex_Male                 0.00  0.28   0.78       0.36\n",
       "diagnosis_LG glioma      0.00 -1.89   0.06       4.09\n",
       "diagnosis_Meningioma     0.00 -4.40 <0.005      16.51\n",
       "diagnosis_Other          0.00 -1.90   0.06       4.12\n",
       "loc_Supratentorial       0.00  0.54   0.59       0.77\n",
       "stereo_SRT               0.00  0.23   0.82       0.29\n",
       "---\n",
       "Concordance = 0.79\n",
       "Partial AIC = 254.82\n",
       "log-likelihood ratio test = 39.48 on 9 df\n",
       "-log2(p) of ll-ratio test = 16.69"
      ]
     },
     "metadata": {},
     "output_type": "display_data"
    },
    {
     "data": {
      "image/png": "[encoded data removed]",
      "text/plain": [
       "<Figure size 432x288 with 1 Axes>"
      ]
     },
     "metadata": {
      "needs_background": "light"
     },
     "output_type": "display_data"
    }
   ],
   "source": [
    "#I got help from Chatgpt on this question#\n",
    "from lifelines import CoxPHFitter, KaplanMeierFitter\n",
    "brain_cancer_data_dummy = pd.get_dummies(BrainCancer, drop_first=True)\n",
    "\n",
    "cph = CoxPHFitter()\n",
    "cph.fit(brain_cancer_data_dummy, duration_col='time', event_col='status')\n",
    "cph.print_summary()\n",
    "\n",
    "strata = BrainCancer['ki'].replace(40, 60)  # Group ki=40 with ki=60\n",
    "unique_strata = strata.unique()\n",
    "\n",
    "kmf = KaplanMeierFitter()\n",
    "\n",
    "for ki_value in unique_strata:\n",
    "    mask = strata == ki_value\n",
    "    kmf.fit(durations=BrainCancer['time'][mask], event_observed=BrainCancer['status'][mask], label=f'ki={ki_value}')\n",
    "    kmf.plot_survival_function()\n",
    "    \n",
    "plt.title('Kaplan-Meier Survival Curves Stratified by ki Value')\n",
    "plt.xlabel('Time')\n",
    "plt.ylabel('Survival Probability')\n",
    "plt.legend()\n",
    "plt.show()\n"
   ]
  },
  {
   "cell_type": "markdown",
   "id": "30d90bbb",
   "metadata": {},
   "source": [
    "Your answer:\n",
    "\n",
    "~~~\n",
    "Please write your answer in full sentences.\n",
    "\n",
    "\n",
    "~~~\n",
    "\n",
    "(d) Stratify the data by the value of $k_i$. (Since only one observation has $k_i=40$, you can group that observation together with the observations that have ki=60.) Plot Kaplan-Meier survival curves for each of the five strata, adjusted for the other predictors."
   ]
  },
  {
   "cell_type": "code",
   "execution_count": 18,
   "id": "c9470387",
   "metadata": {
    "Rmd_chunk_options": "echo=TRUE",
    "kernel": "Python3",
    "tags": [
     "report_cell"
    ]
   },
   "outputs": [
    {
     "data": {
      "image/png": "[encoded data removed]",
      "text/plain": [
       "<Figure size 432x288 with 1 Axes>"
      ]
     },
     "metadata": {
      "needs_background": "light"
     },
     "output_type": "display_data"
    }
   ],
   "source": [
    "def compute_survival_curve(data):\n",
    "    # Sort by time\n",
    "    data_sorted = data.sort_values('time')\n",
    "    times = data_sorted['time']\n",
    "    events = data_sorted['status']\n",
    "    \n",
    "    survival_prob = 1.0\n",
    "    survival_curve = []\n",
    "    for time in np.unique(times):\n",
    "        at_risk = np.sum(times >= time)\n",
    "        events_at_time = np.sum((times == time) & (events == 1))\n",
    "        survival_prob *= (1 - events_at_time / at_risk)\n",
    "        survival_curve.append((time, survival_prob))\n",
    "    return survival_curve\n",
    "\n",
    "BrainCancer['ki_adj'] = BrainCancer['ki'].replace(40, 60)\n",
    "\n",
    "for ki_value in BrainCancer['ki_adj'].unique():\n",
    "    stratum_data = BrainCancer[BrainCancer['ki_adj'] == ki_value]\n",
    "    survival_curve = compute_survival_curve(stratum_data)\n",
    "    times, survivals = zip(*survival_curve)\n",
    "    plt.step(times, survivals, where='post', label=f'ki={ki_value}')\n",
    "\n",
    "plt.title('Kaplan-Meier Survival Curves Stratified by ki Value')\n",
    "plt.xlabel('Time')\n",
    "plt.ylabel('Survival Probability')\n",
    "plt.legend()\n",
    "plt.show()\n"
   ]
  },
  {
   "cell_type": "markdown",
   "id": "7c791b8a",
   "metadata": {},
   "source": [
    "### Censoring\n",
    "\n",
    "This example makes use of the data in\n",
    "\n",
    "Observation (Y ) |Censoring Indicator ($\\delta$) | Covariate (X)\n",
    "-----------------|-------------------------------|-------------------\n",
    "26.5             | 1                             | 0.1\n",
    "37.2             | 1                             | 11\n",
    "57.3             | 1                             | -0.3\n",
    "90.8             | 0                             | 2.8\n",
    "20.2             | 0                             | 1.8\n",
    "89.8             | 0                             | 0.4\n",
    "\n",
    "(a) Create two groups of observations. In Group 1, $X <2$, whereas\n",
    "in Group 2, $X \\geq 2$. Plot the Kaplan-Meier survival curves corresponding\n",
    "to the two groups. Be sure to label the curves so that\n",
    "it is clear which curve corresponds to which group. By eye, does\n",
    "there appear to be a difference between the two groups’ survival\n",
    "curves?"
   ]
  },
  {
   "cell_type": "code",
   "execution_count": 23,
   "id": "162986ec",
   "metadata": {
    "Rmd_chunk_options": "echo=TRUE",
    "kernel": "Python3",
    "tags": [
     "report_cell"
    ]
   },
   "outputs": [],
   "source": [
    "data = pd.DataFrame({\n",
    "    'Observation': [26.5, 37.2, 57.3, 90.8, 20.2, 89.8],\n",
    "    'Censoring Indicator': [1, 1, 1, 0, 0, 0],\n",
    "    'Covariate': [0.1, 11, -0.3, 2.8, 1.8, 0.4]\n",
    "})\n",
    "\n",
    "# Split the data into two groups based on the covariate X\n",
    "group_1 = data[data['Covariate'] < 2]\n",
    "group_2 = data[data['Covariate'] >= 2]\n"
   ]
  },
  {
   "cell_type": "code",
   "execution_count": 24,
   "id": "bad11748",
   "metadata": {},
   "outputs": [
    {
     "data": {
      "image/png": "[encoded data removed]",
      "text/plain": [
       "<Figure size 432x288 with 1 Axes>"
      ]
     },
     "metadata": {
      "needs_background": "light"
     },
     "output_type": "display_data"
    }
   ],
   "source": [
    "kmf1 = KaplanMeierFitter()\n",
    "kmf2 = KaplanMeierFitter()\n",
    "\n",
    "# Fit the data to the KaplanMeierFitter instance for Group 1\n",
    "kmf1.fit(group_1['Observation'], event_observed=group_1['Censoring Indicator'], label='Group 1 (X < 2)')\n",
    "# Fit the data to the KaplanMeierFitter instance for Group 2\n",
    "kmf2.fit(group_2['Observation'], event_observed=group_2['Censoring Indicator'], label='Group 2 (X >= 2)')\n",
    "\n",
    "# Plot the survival functions\n",
    "kmf1.plot_survival_function()\n",
    "kmf2.plot_survival_function()\n",
    "plt.title('Kaplan-Meier Survival Curves')\n",
    "plt.xlabel('Time')\n",
    "plt.ylabel('Survival Probability')\n",
    "plt.show()"
   ]
  },
  {
   "cell_type": "markdown",
   "id": "3f905900",
   "metadata": {},
   "source": [
    "Your answer:\n",
    "\n",
    "~~~\n",
    "Please write your answer in full sentences.\n",
    "\n",
    "\n",
    "~~~\n",
    "\n",
    "(b) Fit Cox’s proportional hazards model, using the group indicator as a covariate. What is the estimated coefficient? Write a sentence providing the interpretation of this coefficient, in terms of the hazard or the instantaneous probability of the event. Is there evidence that the true coefficient value is non-zero?"
   ]
  },
  {
   "cell_type": "code",
   "execution_count": 25,
   "id": "81027d3d",
   "metadata": {
    "Rmd_chunk_options": "echo=TRUE",
    "kernel": "Python3",
    "tags": [
     "report_cell"
    ]
   },
   "outputs": [
    {
     "ename": "ImportError",
     "evalue": "Pandas requires version '3.0.0' or newer of 'jinja2' (version '2.11.3' currently installed).",
     "output_type": "error",
     "traceback": [
      "\u001b[0;31m---------------------------------------------------------------------------\u001b[0m",
      "\u001b[0;31mImportError\u001b[0m                               Traceback (most recent call last)",
      "\u001b[0;32m~/opt/anaconda3/lib/python3.9/site-packages/IPython/core/formatters.py\u001b[0m in \u001b[0;36m__call__\u001b[0;34m(self, obj)\u001b[0m\n\u001b[1;32m    343\u001b[0m             \u001b[0mmethod\u001b[0m \u001b[0;34m=\u001b[0m \u001b[0mget_real_method\u001b[0m\u001b[0;34m(\u001b[0m\u001b[0mobj\u001b[0m\u001b[0;34m,\u001b[0m \u001b[0mself\u001b[0m\u001b[0;34m.\u001b[0m\u001b[0mprint_method\u001b[0m\u001b[0;34m)\u001b[0m\u001b[0;34m\u001b[0m\u001b[0;34m\u001b[0m\u001b[0m\n\u001b[1;32m    344\u001b[0m             \u001b[0;32mif\u001b[0m \u001b[0mmethod\u001b[0m \u001b[0;32mis\u001b[0m \u001b[0;32mnot\u001b[0m \u001b[0;32mNone\u001b[0m\u001b[0;34m:\u001b[0m\u001b[0;34m\u001b[0m\u001b[0;34m\u001b[0m\u001b[0m\n\u001b[0;32m--> 345\u001b[0;31m                 \u001b[0;32mreturn\u001b[0m \u001b[0mmethod\u001b[0m\u001b[0;34m(\u001b[0m\u001b[0;34m)\u001b[0m\u001b[0;34m\u001b[0m\u001b[0;34m\u001b[0m\u001b[0m\n\u001b[0m\u001b[1;32m    346\u001b[0m             \u001b[0;32mreturn\u001b[0m \u001b[0;32mNone\u001b[0m\u001b[0;34m\u001b[0m\u001b[0;34m\u001b[0m\u001b[0m\n\u001b[1;32m    347\u001b[0m         \u001b[0;32melse\u001b[0m\u001b[0;34m:\u001b[0m\u001b[0;34m\u001b[0m\u001b[0;34m\u001b[0m\u001b[0m\n",
      "\u001b[0;32m~/opt/anaconda3/lib/python3.9/site-packages/lifelines/utils/printer.py\u001b[0m in \u001b[0;36m_repr_latex_\u001b[0;34m(self)\u001b[0m\n\u001b[1;32m    183\u001b[0m         \u001b[0mself\u001b[0m\u001b[0;34m,\u001b[0m\u001b[0;34m\u001b[0m\u001b[0;34m\u001b[0m\u001b[0m\n\u001b[1;32m    184\u001b[0m     ):\n\u001b[0;32m--> 185\u001b[0;31m         \u001b[0;32mreturn\u001b[0m \u001b[0mself\u001b[0m\u001b[0;34m.\u001b[0m\u001b[0mto_latex\u001b[0m\u001b[0;34m(\u001b[0m\u001b[0;34m)\u001b[0m\u001b[0;34m\u001b[0m\u001b[0;34m\u001b[0m\u001b[0m\n\u001b[0m\u001b[1;32m    186\u001b[0m \u001b[0;34m\u001b[0m\u001b[0m\n\u001b[1;32m    187\u001b[0m     \u001b[0;32mdef\u001b[0m \u001b[0m_repr_html_\u001b[0m\u001b[0;34m(\u001b[0m\u001b[0mself\u001b[0m\u001b[0;34m)\u001b[0m\u001b[0;34m:\u001b[0m\u001b[0;34m\u001b[0m\u001b[0;34m\u001b[0m\u001b[0m\n",
      "\u001b[0;32m~/opt/anaconda3/lib/python3.9/site-packages/lifelines/utils/printer.py\u001b[0m in \u001b[0;36mto_latex\u001b[0;34m(self)\u001b[0m\n\u001b[1;32m     60\u001b[0m         \u001b[0;32melse\u001b[0m\u001b[0;34m:\u001b[0m\u001b[0;34m\u001b[0m\u001b[0;34m\u001b[0m\u001b[0m\n\u001b[1;32m     61\u001b[0m             \u001b[0mcolumns\u001b[0m \u001b[0;34m=\u001b[0m \u001b[0msummary_df\u001b[0m\u001b[0;34m.\u001b[0m\u001b[0mcolumns\u001b[0m\u001b[0;34m.\u001b[0m\u001b[0mintersection\u001b[0m\u001b[0;34m(\u001b[0m\u001b[0mself\u001b[0m\u001b[0;34m.\u001b[0m\u001b[0mcolumns\u001b[0m\u001b[0;34m)\u001b[0m\u001b[0;34m\u001b[0m\u001b[0;34m\u001b[0m\u001b[0m\n\u001b[0;32m---> 62\u001b[0;31m         \u001b[0ms\u001b[0m \u001b[0;34m=\u001b[0m \u001b[0msummary_df\u001b[0m\u001b[0;34m[\u001b[0m\u001b[0mcolumns\u001b[0m\u001b[0;34m]\u001b[0m\u001b[0;34m.\u001b[0m\u001b[0mstyle\u001b[0m\u001b[0;34m\u001b[0m\u001b[0;34m\u001b[0m\u001b[0m\n\u001b[0m\u001b[1;32m     63\u001b[0m         \u001b[0ms\u001b[0m \u001b[0;34m=\u001b[0m \u001b[0ms\u001b[0m\u001b[0;34m.\u001b[0m\u001b[0mformat\u001b[0m\u001b[0;34m(\u001b[0m\u001b[0mprecision\u001b[0m\u001b[0;34m=\u001b[0m\u001b[0mself\u001b[0m\u001b[0;34m.\u001b[0m\u001b[0mdecimals\u001b[0m\u001b[0;34m)\u001b[0m\u001b[0;34m\u001b[0m\u001b[0;34m\u001b[0m\u001b[0m\n\u001b[1;32m     64\u001b[0m         \u001b[0;32mreturn\u001b[0m \u001b[0ms\u001b[0m\u001b[0;34m.\u001b[0m\u001b[0mto_latex\u001b[0m\u001b[0;34m(\u001b[0m\u001b[0;34m)\u001b[0m\u001b[0;34m\u001b[0m\u001b[0;34m\u001b[0m\u001b[0m\n",
      "\u001b[0;32m~/opt/anaconda3/lib/python3.9/site-packages/pandas/core/frame.py\u001b[0m in \u001b[0;36mstyle\u001b[0;34m(self)\u001b[0m\n\u001b[1;32m   1263\u001b[0m             \u001b[0mdata\u001b[0m \u001b[0;32mwith\u001b[0m \u001b[0mHTML\u001b[0m \u001b[0;32mand\u001b[0m \u001b[0mCSS\u001b[0m\u001b[0;34m.\u001b[0m\u001b[0;34m\u001b[0m\u001b[0;34m\u001b[0m\u001b[0m\n\u001b[1;32m   1264\u001b[0m         \"\"\"\n\u001b[0;32m-> 1265\u001b[0;31m         \u001b[0;32mfrom\u001b[0m \u001b[0mpandas\u001b[0m\u001b[0;34m.\u001b[0m\u001b[0mio\u001b[0m\u001b[0;34m.\u001b[0m\u001b[0mformats\u001b[0m\u001b[0;34m.\u001b[0m\u001b[0mstyle\u001b[0m \u001b[0;32mimport\u001b[0m \u001b[0mStyler\u001b[0m\u001b[0;34m\u001b[0m\u001b[0;34m\u001b[0m\u001b[0m\n\u001b[0m\u001b[1;32m   1266\u001b[0m \u001b[0;34m\u001b[0m\u001b[0m\n\u001b[1;32m   1267\u001b[0m         \u001b[0;32mreturn\u001b[0m \u001b[0mStyler\u001b[0m\u001b[0;34m(\u001b[0m\u001b[0mself\u001b[0m\u001b[0;34m)\u001b[0m\u001b[0;34m\u001b[0m\u001b[0;34m\u001b[0m\u001b[0m\n",
      "\u001b[0;32m~/opt/anaconda3/lib/python3.9/site-packages/pandas/io/formats/style.py\u001b[0m in \u001b[0;36m<module>\u001b[0;34m\u001b[0m\n\u001b[1;32m     54\u001b[0m \u001b[0;32mfrom\u001b[0m \u001b[0mpandas\u001b[0m\u001b[0;34m.\u001b[0m\u001b[0mio\u001b[0m\u001b[0;34m.\u001b[0m\u001b[0mformats\u001b[0m\u001b[0;34m.\u001b[0m\u001b[0mformat\u001b[0m \u001b[0;32mimport\u001b[0m \u001b[0msave_to_buffer\u001b[0m\u001b[0;34m\u001b[0m\u001b[0;34m\u001b[0m\u001b[0m\n\u001b[1;32m     55\u001b[0m \u001b[0;34m\u001b[0m\u001b[0m\n\u001b[0;32m---> 56\u001b[0;31m \u001b[0mjinja2\u001b[0m \u001b[0;34m=\u001b[0m \u001b[0mimport_optional_dependency\u001b[0m\u001b[0;34m(\u001b[0m\u001b[0;34m\"jinja2\"\u001b[0m\u001b[0;34m,\u001b[0m \u001b[0mextra\u001b[0m\u001b[0;34m=\u001b[0m\u001b[0;34m\"DataFrame.style requires jinja2.\"\u001b[0m\u001b[0;34m)\u001b[0m\u001b[0;34m\u001b[0m\u001b[0;34m\u001b[0m\u001b[0m\n\u001b[0m\u001b[1;32m     57\u001b[0m \u001b[0;34m\u001b[0m\u001b[0m\n\u001b[1;32m     58\u001b[0m from pandas.io.formats.style_render import (\n",
      "\u001b[0;32m~/opt/anaconda3/lib/python3.9/site-packages/pandas/compat/_optional.py\u001b[0m in \u001b[0;36mimport_optional_dependency\u001b[0;34m(name, extra, errors, min_version)\u001b[0m\n\u001b[1;32m    169\u001b[0m                 \u001b[0;32mreturn\u001b[0m \u001b[0;32mNone\u001b[0m\u001b[0;34m\u001b[0m\u001b[0;34m\u001b[0m\u001b[0m\n\u001b[1;32m    170\u001b[0m             \u001b[0;32melif\u001b[0m \u001b[0merrors\u001b[0m \u001b[0;34m==\u001b[0m \u001b[0;34m\"raise\"\u001b[0m\u001b[0;34m:\u001b[0m\u001b[0;34m\u001b[0m\u001b[0;34m\u001b[0m\u001b[0m\n\u001b[0;32m--> 171\u001b[0;31m                 \u001b[0;32mraise\u001b[0m \u001b[0mImportError\u001b[0m\u001b[0;34m(\u001b[0m\u001b[0mmsg\u001b[0m\u001b[0;34m)\u001b[0m\u001b[0;34m\u001b[0m\u001b[0;34m\u001b[0m\u001b[0m\n\u001b[0m\u001b[1;32m    172\u001b[0m \u001b[0;34m\u001b[0m\u001b[0m\n\u001b[1;32m    173\u001b[0m     \u001b[0;32mreturn\u001b[0m \u001b[0mmodule\u001b[0m\u001b[0;34m\u001b[0m\u001b[0;34m\u001b[0m\u001b[0m\n",
      "\u001b[0;31mImportError\u001b[0m: Pandas requires version '3.0.0' or newer of 'jinja2' (version '2.11.3' currently installed)."
     ]
    },
    {
     "data": {
      "text/html": [
       "<div>\n",
       "<style scoped>\n",
       "    .dataframe tbody tr th:only-of-type {\n",
       "        vertical-align: middle;\n",
       "    }\n",
       "\n",
       "    .dataframe tbody tr th {\n",
       "        vertical-align: top;\n",
       "    }\n",
       "\n",
       "    .dataframe thead th {\n",
       "        text-align: right;\n",
       "    }\n",
       "</style>\n",
       "<table border=\"1\" class=\"dataframe\">\n",
       "  <tbody>\n",
       "    <tr>\n",
       "      <th>model</th>\n",
       "      <td>lifelines.CoxPHFitter</td>\n",
       "    </tr>\n",
       "    <tr>\n",
       "      <th>duration col</th>\n",
       "      <td>'Observation'</td>\n",
       "    </tr>\n",
       "    <tr>\n",
       "      <th>event col</th>\n",
       "      <td>'Censoring Indicator'</td>\n",
       "    </tr>\n",
       "    <tr>\n",
       "      <th>baseline estimation</th>\n",
       "      <td>breslow</td>\n",
       "    </tr>\n",
       "    <tr>\n",
       "      <th>number of observations</th>\n",
       "      <td>6</td>\n",
       "    </tr>\n",
       "    <tr>\n",
       "      <th>number of events observed</th>\n",
       "      <td>3</td>\n",
       "    </tr>\n",
       "    <tr>\n",
       "      <th>partial log-likelihood</th>\n",
       "      <td>-4.06</td>\n",
       "    </tr>\n",
       "    <tr>\n",
       "      <th>time fit was run</th>\n",
       "      <td>2024-04-20 21:37:04 UTC</td>\n",
       "    </tr>\n",
       "  </tbody>\n",
       "</table>\n",
       "</div><table border=\"1\" class=\"dataframe\">\n",
       "  <thead>\n",
       "    <tr style=\"text-align: right;\">\n",
       "      <th style=\"min-width: 12px;\"></th>\n",
       "      <th style=\"min-width: 12px;\">coef</th>\n",
       "      <th style=\"min-width: 12px;\">exp(coef)</th>\n",
       "      <th style=\"min-width: 12px;\">se(coef)</th>\n",
       "      <th style=\"min-width: 12px;\">coef lower 95%</th>\n",
       "      <th style=\"min-width: 12px;\">coef upper 95%</th>\n",
       "      <th style=\"min-width: 12px;\">exp(coef) lower 95%</th>\n",
       "      <th style=\"min-width: 12px;\">exp(coef) upper 95%</th>\n",
       "      <th style=\"min-width: 12px;\">cmp to</th>\n",
       "      <th style=\"min-width: 12px;\">z</th>\n",
       "      <th style=\"min-width: 12px;\">p</th>\n",
       "      <th style=\"min-width: 12px;\">-log2(p)</th>\n",
       "    </tr>\n",
       "  </thead>\n",
       "  <tbody>\n",
       "    <tr>\n",
       "      <th>Group Indicator</th>\n",
       "      <td>-0.34</td>\n",
       "      <td>0.71</td>\n",
       "      <td>1.24</td>\n",
       "      <td>-2.76</td>\n",
       "      <td>2.08</td>\n",
       "      <td>0.06</td>\n",
       "      <td>8.02</td>\n",
       "      <td>0.00</td>\n",
       "      <td>-0.28</td>\n",
       "      <td>0.78</td>\n",
       "      <td>0.35</td>\n",
       "    </tr>\n",
       "  </tbody>\n",
       "</table><br><div>\n",
       "<style scoped>\n",
       "    .dataframe tbody tr th:only-of-type {\n",
       "        vertical-align: middle;\n",
       "    }\n",
       "\n",
       "    .dataframe tbody tr th {\n",
       "        vertical-align: top;\n",
       "    }\n",
       "\n",
       "    .dataframe thead th {\n",
       "        text-align: right;\n",
       "    }\n",
       "</style>\n",
       "<table border=\"1\" class=\"dataframe\">\n",
       "  <tbody>\n",
       "    <tr>\n",
       "      <th>Concordance</th>\n",
       "      <td>0.56</td>\n",
       "    </tr>\n",
       "    <tr>\n",
       "      <th>Partial AIC</th>\n",
       "      <td>10.11</td>\n",
       "    </tr>\n",
       "    <tr>\n",
       "      <th>log-likelihood ratio test</th>\n",
       "      <td>0.08 on 1 df</td>\n",
       "    </tr>\n",
       "    <tr>\n",
       "      <th>-log2(p) of ll-ratio test</th>\n",
       "      <td>0.36</td>\n",
       "    </tr>\n",
       "  </tbody>\n",
       "</table>\n",
       "</div>"
      ],
      "text/plain": [
       "<lifelines.CoxPHFitter: fitted with 6 total observations, 3 right-censored observations>\n",
       "             duration col = 'Observation'\n",
       "                event col = 'Censoring Indicator'\n",
       "      baseline estimation = breslow\n",
       "   number of observations = 6\n",
       "number of events observed = 3\n",
       "   partial log-likelihood = -4.06\n",
       "         time fit was run = 2024-04-20 21:37:04 UTC\n",
       "\n",
       "---\n",
       "                  coef  exp(coef)   se(coef)   coef lower 95%   coef upper 95%  exp(coef) lower 95%  exp(coef) upper 95%\n",
       "covariate                                                                                                               \n",
       "Group Indicator  -0.34       0.71       1.24            -2.76             2.08                 0.06                 8.02\n",
       "\n",
       "                  cmp to     z    p   -log2(p)\n",
       "covariate                                     \n",
       "Group Indicator     0.00 -0.28 0.78       0.35\n",
       "---\n",
       "Concordance = 0.56\n",
       "Partial AIC = 10.11\n",
       "log-likelihood ratio test = 0.08 on 1 df\n",
       "-log2(p) of ll-ratio test = 0.36"
      ]
     },
     "metadata": {},
     "output_type": "display_data"
    }
   ],
   "source": [
    "data['Group Indicator'] = (data['Covariate'] >= 2).astype(int)\n",
    "\n",
    "cph = CoxPHFitter()\n",
    "cph.fit(data[['Observation', 'Censoring Indicator', 'Group Indicator']], 'Observation', event_col='Censoring Indicator')\n",
    "cph.print_summary()"
   ]
  },
  {
   "cell_type": "markdown",
   "id": "9ad8a5ba",
   "metadata": {},
   "source": [
    "Your answer:\n",
    "\n",
    "~~~\n",
    "There is little evidence that the true coefficient value is non-zero\n",
    "\n",
    "~~~\n",
    "\n",
    "(c) Recall from Section 11.5.2 that in the case of a single binary covariate, the log-rank test statistic should be identical to the score statistic for the Cox model. Conduct a log-rank test to determine whether there is a difference between the survival curves for the two groups. How does the p-value for the log-rank test statistic compare to the p-value for the score statistic for the Cox model from (b)?"
   ]
  },
  {
   "cell_type": "code",
   "execution_count": 26,
   "id": "30e916b2",
   "metadata": {
    "Rmd_chunk_options": "echo=TRUE",
    "kernel": "Python3",
    "tags": [
     "report_cell"
    ]
   },
   "outputs": [
    {
     "name": "stdout",
     "output_type": "stream",
     "text": [
      "   test_statistic         p  -log2(p)\n",
      "0        0.076443  0.782177  0.354433\n"
     ]
    }
   ],
   "source": [
    "from lifelines.statistics import logrank_test\n",
    "\n",
    "results = logrank_test(group_1['Observation'], group_2['Observation'],\n",
    "                       event_observed_A=group_1['Censoring Indicator'],\n",
    "                       event_observed_B=group_2['Censoring Indicator'])\n",
    "\n",
    "print(results.summary)"
   ]
  },
  {
   "cell_type": "markdown",
   "id": "be6e3b53",
   "metadata": {},
   "source": [
    "Your answer:\n",
    "\n",
    "~~~\n",
    "The p-value is a little bit higher that we got in b\n",
    "\n",
    "~~~"
   ]
  },
  {
   "cell_type": "markdown",
   "id": "9d6452d7",
   "metadata": {},
   "source": [
    "## Extra Material"
   ]
  },
  {
   "cell_type": "markdown",
   "id": "b6333a9f",
   "metadata": {},
   "source": [
    "### Distributions"
   ]
  },
  {
   "cell_type": "code",
   "execution_count": null,
   "id": "b9eda6a9",
   "metadata": {
    "Rmd_chunk_options": "fig.width=16, fig.height=4,echo=FALSE",
    "jupyter": {
     "output_hidden": false,
     "source_hidden": true
    },
    "kernel": "Python3",
    "tags": [
     "report_output"
    ]
   },
   "outputs": [],
   "source": [
    "from scipy.stats import expon, weibull_min, gamma\n",
    "\n",
    "# Define a constant function\n",
    "def const(x, lam):\n",
    "    return np.repeat(lam, len(x))\n",
    "\n",
    "# Set up the plots\n",
    "fig, axs = plt.subplots(3, 4, figsize=(18, 12))\n",
    "\n",
    "# Exponential Distribution\n",
    "x = np.linspace(0, 5, 1000)\n",
    "lam = 2\n",
    "\n",
    "# Density plot\n",
    "axs[0, 0].plot(x, expon.pdf(x, scale=1/lam))\n",
    "axs[0, 0].set(xlabel='T', ylabel='exp(lambda=2)', title='Density')\n",
    "\n",
    "# CDF plot\n",
    "axs[0, 1].plot(x, 1 - expon.cdf(x, scale=1/lam))\n",
    "axs[0, 1].set(xlabel='T', ylabel='exp(lambda=2)', title='CDF')\n",
    "\n",
    "# Survival plot\n",
    "axs[0, 2].plot(x, expon.cdf(x, scale=1/lam))\n",
    "axs[0, 2].set(xlabel='T', ylabel='exp(lambda=2)', title='Survival')\n",
    "\n",
    "# Hazard plot\n",
    "axs[0, 3].plot(x, const(x, lam))\n",
    "axs[0, 3].set(xlabel='T', ylabel='exp(lambda=2)', title='Hazard')\n",
    "\n",
    "# Weibull Distribution\n",
    "shape = 2\n",
    "scale = 1\n",
    "\n",
    "# Density plot\n",
    "axs[1, 0].plot(x, weibull_min.pdf(x, shape, scale=scale))\n",
    "axs[1, 0].set(xlabel='T', ylabel='Weibull(shape=2,scale=1)', title='Density')\n",
    "\n",
    "# CDF plot\n",
    "axs[1, 1].plot(x, 1 - weibull_min.cdf(x, shape, scale=scale))\n",
    "axs[1, 1].set(xlabel='T', ylabel='Weibull(shape=2,scale=1)', title='CDF')\n",
    "\n",
    "# Survival plot\n",
    "axs[1, 2].plot(x, weibull_min.cdf(x, shape, scale=scale))\n",
    "axs[1, 2].set(xlabel='T', ylabel='Weibull(shape=2,scale=1)', title='Survival')\n",
    "\n",
    "# Hazard plot\n",
    "axs[1, 3].plot(x, weibull_min.pdf(x, shape, scale=scale) / weibull_min.cdf(x, shape, scale=scale))\n",
    "axs[1, 3].set(xlabel='T', ylabel='Weibull(shape=2,scale=1)', title='Hazard')\n",
    "\n",
    "# Gamma Distribution\n",
    "shape = 3\n",
    "rate = 2\n",
    "\n",
    "# Density plot\n",
    "axs[2, 0].plot(x, gamma.pdf(x, shape, scale=1/rate))\n",
    "axs[2, 0].set(xlabel='T', ylabel='gamma(shape=3,rate=2)', title='Density')\n",
    "\n",
    "# CDF plot\n",
    "axs[2, 1].plot(x, 1 - gamma.cdf(x, shape, scale=1/rate))\n",
    "axs[2, 1].set(xlabel='T', ylabel='gamma(shape=3,rate=2)', title='CDF')\n",
    "\n",
    "# Survival plot\n",
    "axs[2, 2].plot(x, gamma.cdf(x, shape, scale=1/rate))\n",
    "axs[2, 2].set(xlabel='T', ylabel='gamma(shape=3,rate=2)', title='Survival')\n",
    "\n",
    "# Hazard plot\n",
    "axs[2, 3].plot(x, gamma.pdf(x, shape, scale=1/rate) / gamma.cdf(x, shape, scale=1/rate))\n",
    "axs[2, 3].set(xlabel='T', ylabel='gamma(shape=3,rate=2)', title='Hazard')\n",
    "\n",
    "# Adjust layout\n",
    "plt.tight_layout()\n",
    "plt.show()"
   ]
  }
 ],
 "metadata": {
  "Rmd_chunk_options": {
   "author": "Your Name",
   "date": "2024-04-05",
   "output": "html_document",
   "title": "Survival_Analysis_with Python"
  },
  "kernelspec": {
   "display_name": "Python 3 (ipykernel)",
   "language": "python",
   "name": "python3"
  },
  "language_info": {
   "codemirror_mode": {
    "name": "ipython",
    "version": 3
   },
   "file_extension": ".py",
   "mimetype": "text/x-python",
   "name": "python",
   "nbconvert_exporter": "python",
   "pygments_lexer": "ipython3",
   "version": "3.9.7"
  },
  "sos": {
   "kernels": [
    [
     "SoS",
     "sos",
     "",
     ""
    ],
    [
     "R",
     "ir",
     "",
     ""
    ],
    [
     "css",
     "css",
     "",
     ""
    ],
    [
     "Python3",
     "ir",
     "",
     ""
    ]
   ]
  }
 },
 "nbformat": 4,
 "nbformat_minor": 5
}
